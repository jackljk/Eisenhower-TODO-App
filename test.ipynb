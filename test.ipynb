{
 "cells": [
  {
   "cell_type": "code",
   "execution_count": 20,
   "metadata": {},
   "outputs": [
    {
     "name": "stdout",
     "output_type": "stream",
     "text": [
      "2024-04-26 16:31:22.700327\n",
      "2024-04-28 16:31:22.700367\n",
      "2024-05-09 16:31:22.700382\n",
      "2024-05-25 16:31:22.700413\n"
     ]
    }
   ],
   "source": [
    "from dateutil.relativedelta import relativedelta\n",
    "from dateutil.parser import parse\n",
    "import datetime\n",
    "\n",
    "def get_relative_date(expression):\n",
    "    # Current date and time\n",
    "    now = datetime.datetime.now()\n",
    "\n",
    "    # Analyze the expression\n",
    "    if expression == \"tomorrow\":\n",
    "        return now + datetime.timedelta(days=1)\n",
    "    elif \"days\" in expression or \"day\" in expression:\n",
    "        # Extract the number of days from the expression\n",
    "        days = int(expression.split()[0])\n",
    "        return now + datetime.timedelta(days=days)\n",
    "    elif \"week\" in expression or expression == 'next week':\n",
    "        if expression == 'next week':\n",
    "            return now + relativedelta(weeks=1)\n",
    "        weeks = int(expression.split()[0])\n",
    "        return now + relativedelta(weeks=weeks)\n",
    "    elif \"month\" in expression:\n",
    "        if expression == 'next month':\n",
    "            return now + relativedelta(months=1)\n",
    "        # Extract the number of months from the expression\n",
    "        months = int(expression.split()[0])\n",
    "        return now + relativedelta(months=months)\n",
    "    else:\n",
    "        # Try to parse any other string to a date\n",
    "        try:\n",
    "            return parse(expression, fuzzy=True)\n",
    "        except ValueError:\n",
    "            return \"Unable to parse date expression.\"\n",
    "\n",
    "# Examples of using the function\n",
    "print(get_relative_date(\"tomorrow\"))\n",
    "print(get_relative_date(\"3 days\"))\n",
    "print(get_relative_date(\"2 weeks\"))\n",
    "print(get_relative_date(\"next month\"))\n"
   ]
  },
  {
   "cell_type": "code",
   "execution_count": 1,
   "metadata": {},
   "outputs": [
    {
     "name": "stdout",
     "output_type": "stream",
     "text": [
      "task\n",
      "due\n",
      "urgent\n",
      "important\n",
      "urgent_given\n",
      "importance_given\n",
      "task_description\n",
      "task\n",
      "due\n",
      "urgent\n",
      "important\n",
      "urgent_given\n",
      "importance_given\n",
      "task_description\n"
     ]
    },
    {
     "data": {
      "text/plain": [
       "[{'task': 'DSC20 Lab',\n",
       "  'due': '3 days',\n",
       "  'urgent': 'Yes',\n",
       "  'important': 'Yes',\n",
       "  'urgent_given': 'Yes',\n",
       "  'importance_given': 'No',\n",
       "  'task_description': 'DSC20 python lab'},\n",
       " {'task': 'DSC20 homework',\n",
       "  'due': '04/21',\n",
       "  'urgent': 'No',\n",
       "  'important': 'Yes',\n",
       "  'urgent_given': 'Yes',\n",
       "  'importance_given': 'Yes',\n",
       "  'task_description': 'DSC20 python Homework'}]"
      ]
     },
     "execution_count": 1,
     "metadata": {},
     "output_type": "execute_result"
    }
   ],
   "source": [
    "# Sample output data as a multiline string\n",
    "data = \"\"\"\n",
    "Task_1: DSC20 Lab\n",
    "Due_1: 3 days\n",
    "Urgent_1: Yes\n",
    "Important_1: Yes\n",
    "Urgent_Given_1: Yes\n",
    "Importance_Given_1: No\n",
    "Task_Description_1: DSC20 python lab\n",
    "\n",
    "Task_2: DSC20 homework\n",
    "Due_2: 04/21\n",
    "Urgent_2: No\n",
    "Important_2: Yes\n",
    "Urgent_Given_2: Yes\n",
    "Importance_Given_2: Yes\n",
    "Task_Description_2: DSC20 python Homework\n",
    "\"\"\"\n",
    "\n",
    "tasks = data.strip().split(\"\\n\\n\")\n",
    "# Initialize a list to store the dictionary for each task\n",
    "task_list = []\n",
    "\n",
    "# Process each task block\n",
    "for task in tasks:\n",
    "    # Split the task into lines\n",
    "    lines = task.split(\"\\n\")\n",
    "    # Initialize a dictionary to store the task details\n",
    "    task_dict = {}\n",
    "    # Process each line\n",
    "    for line in lines:\n",
    "        # Split the line into key and value\n",
    "        key, value = line.split(\": \")\n",
    "        # Store in dictionary with modified key (remove the numeric suffix)\n",
    "        key = key[:-2]  # Assumes the suffix is always two characters (e.g., \"_1\", \"_2\")\n",
    "        key = key.lower()\n",
    "        print(key)\n",
    "        task_dict[key] = value\n",
    "    # Add the dictionary to the list\n",
    "    task_list.append(task_dict)\n",
    "\n",
    "# Output the list of dictionaries to verify the results\n",
    "task_list"
   ]
  },
  {
   "cell_type": "code",
   "execution_count": null,
   "metadata": {},
   "outputs": [],
   "source": []
  }
 ],
 "metadata": {
  "kernelspec": {
   "display_name": "base",
   "language": "python",
   "name": "python3"
  },
  "language_info": {
   "codemirror_mode": {
    "name": "ipython",
    "version": 3
   },
   "file_extension": ".py",
   "mimetype": "text/x-python",
   "name": "python",
   "nbconvert_exporter": "python",
   "pygments_lexer": "ipython3",
   "version": "3.11.5"
  }
 },
 "nbformat": 4,
 "nbformat_minor": 2
}
